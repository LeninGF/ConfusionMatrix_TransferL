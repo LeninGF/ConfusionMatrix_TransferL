{
  "nbformat": 4,
  "nbformat_minor": 0,
  "metadata": {
    "colab": {
      "name": "ConvNet Tutorial.ipynb",
      "version": "0.3.2",
      "provenance": [],
      "collapsed_sections": [],
      "toc_visible": true,
      "include_colab_link": true
    },
    "kernelspec": {
      "name": "python3",
      "display_name": "Python 3"
    },
    "accelerator": "TPU"
  },
  "cells": [
    {
      "cell_type": "markdown",
      "metadata": {
        "id": "view-in-github",
        "colab_type": "text"
      },
      "source": [
        "<a href=\"https://colab.research.google.com/github/LeninGF/ConfusionMatrix_TransferL/blob/master/ConvNet_Tutorial.ipynb\" target=\"_parent\"><img src=\"https://colab.research.google.com/assets/colab-badge.svg\" alt=\"Open In Colab\"/></a>"
      ]
    },
    {
      "cell_type": "markdown",
      "metadata": {
        "id": "Bo2-jcK__d0K",
        "colab_type": "text"
      },
      "source": [
        "Descarga de las imagenes cat vs dog"
      ]
    },
    {
      "cell_type": "code",
      "metadata": {
        "id": "8z7fB_WO5g9g",
        "colab_type": "code",
        "outputId": "7306d928-a763-440a-d278-22a7b5f2b101",
        "colab": {
          "base_uri": "https://localhost:8080/",
          "height": 215
        }
      },
      "source": [
        "!wget --no-check-certificate \\\n",
        "  https://storage.googleapis.com/mledu-datasets/cats_and_dogs_filtered.zip \\\n",
        "  -O /tmp/cats_and_dogs_filtered.zip"
      ],
      "execution_count": 2,
      "outputs": [
        {
          "output_type": "stream",
          "text": [
            "--2019-07-05 01:50:49--  https://storage.googleapis.com/mledu-datasets/cats_and_dogs_filtered.zip\n",
            "Resolving storage.googleapis.com (storage.googleapis.com)... 74.125.124.128, 2607:f8b0:4001:c03::80\n",
            "Connecting to storage.googleapis.com (storage.googleapis.com)|74.125.124.128|:443... connected.\n",
            "HTTP request sent, awaiting response... 200 OK\n",
            "Length: 68606236 (65M) [application/zip]\n",
            "Saving to: ‘/tmp/cats_and_dogs_filtered.zip’\n",
            "\n",
            "/tmp/cats_and_dogs_ 100%[===================>]  65.43M  54.7MB/s    in 1.2s    \n",
            "\n",
            "2019-07-05 01:50:51 (54.7 MB/s) - ‘/tmp/cats_and_dogs_filtered.zip’ saved [68606236/68606236]\n",
            "\n"
          ],
          "name": "stdout"
        }
      ]
    },
    {
      "cell_type": "markdown",
      "metadata": {
        "id": "R5j6fLkdPsul",
        "colab_type": "text"
      },
      "source": [
        "Extrayendo las imagenes\n"
      ]
    },
    {
      "cell_type": "code",
      "metadata": {
        "id": "Nch_qjrq_sQh",
        "colab_type": "code",
        "colab": {}
      },
      "source": [
        "import os\n",
        "import zipfile\n",
        "\n",
        "local_zip = '/tmp/cats_and_dogs_filtered.zip'\n",
        "\n",
        "zip_ref = zipfile.ZipFile(local_zip, 'r')\n",
        "\n",
        "zip_ref.extractall('/tmp')\n",
        "zip_ref.close()"
      ],
      "execution_count": 0,
      "outputs": []
    },
    {
      "cell_type": "markdown",
      "metadata": {
        "id": "qAontJ8b_2qw",
        "colab_type": "text"
      },
      "source": [
        "Definiendo los directorios de entrenamiento y validacion"
      ]
    },
    {
      "cell_type": "code",
      "metadata": {
        "id": "JWEtnj7eAACv",
        "colab_type": "code",
        "colab": {}
      },
      "source": [
        "base_dir = '/tmp/cats_and_dogs_filtered'\n",
        "\n",
        "train_dir = os.path.join(base_dir, 'train')\n",
        "validation_dir = os.path.join(base_dir, 'validation')\n",
        "\n",
        "# Directory with our training cat/dog pictures\n",
        "train_cats_dir = os.path.join(train_dir, 'cats')\n",
        "train_dogs_dir = os.path.join(train_dir, 'dogs')\n",
        "\n",
        "# Directory with our validation cat/dog pictures\n",
        "validation_cats_dir = os.path.join(validation_dir, 'cats')\n",
        "validation_dogs_dir = os.path.join(validation_dir, 'dogs')\n"
      ],
      "execution_count": 0,
      "outputs": []
    },
    {
      "cell_type": "markdown",
      "metadata": {
        "id": "tEJHTx4OAMn5",
        "colab_type": "text"
      },
      "source": [
        "Imprimiendo la cantidad de imagenes del dataset de entrenamiento y validacion"
      ]
    },
    {
      "cell_type": "code",
      "metadata": {
        "id": "IfQGtIorAQAf",
        "colab_type": "code",
        "outputId": "0a74b47e-deb0-4dc3-cf98-d6b1cec5f8c0",
        "colab": {
          "base_uri": "https://localhost:8080/",
          "height": 89
        }
      },
      "source": [
        "print('total training cat images :', len(os.listdir(      train_cats_dir ) ))\n",
        "print('total training dog images :', len(os.listdir(      train_dogs_dir ) ))\n",
        "\n",
        "print('total validation cat images :', len(os.listdir( validation_cats_dir ) ))\n",
        "print('total validation dog images :', len(os.listdir( validation_dogs_dir ) ))"
      ],
      "execution_count": 5,
      "outputs": [
        {
          "output_type": "stream",
          "text": [
            "total training cat images : 1000\n",
            "total training dog images : 1000\n",
            "total validation cat images : 500\n",
            "total validation dog images : 500\n"
          ],
          "name": "stdout"
        }
      ]
    },
    {
      "cell_type": "markdown",
      "metadata": {
        "id": "m1dPkJryBADH",
        "colab_type": "text"
      },
      "source": [
        "Generacion de la ConvNet"
      ]
    },
    {
      "cell_type": "code",
      "metadata": {
        "id": "XBc279WJA-1f",
        "colab_type": "code",
        "outputId": "5b10799f-2929-4031-c84f-ebf6167bacc2",
        "colab": {
          "base_uri": "https://localhost:8080/",
          "height": 109
        }
      },
      "source": [
        "import tensorflow as tf\n",
        "model = tf.keras.models.Sequential([\n",
        "    # Note the input shape is the desired size of the image 150x150 with 3 bytes color\n",
        "    tf.keras.layers.Conv2D(16, (3,3), activation='relu', input_shape=(150, 150, 3)),\n",
        "    tf.keras.layers.MaxPooling2D(2,2),\n",
        "    tf.keras.layers.Conv2D(32, (3,3), activation='relu'),\n",
        "    tf.keras.layers.MaxPooling2D(2,2), \n",
        "    tf.keras.layers.Conv2D(64, (3,3), activation='relu'), \n",
        "    tf.keras.layers.MaxPooling2D(2,2),\n",
        "    # Flatten the results to feed into a DNN\n",
        "    tf.keras.layers.Flatten(), \n",
        "    # 512 neuron hidden layer\n",
        "    tf.keras.layers.Dense(512, activation='relu'), \n",
        "#     tf.keras.layers.Dropout(0.3),\n",
        "#     tf.keras.layers.Dense(512, activation='relu'),\n",
        "    # Only 1 output neuron. It will contain a value from 0-1 where 0 for 1 class ('cats') and 1 for the other ('dogs')\n",
        "    tf.keras.layers.Dense(1, activation='sigmoid')  \n",
        "])"
      ],
      "execution_count": 6,
      "outputs": [
        {
          "output_type": "stream",
          "text": [
            "WARNING: Logging before flag parsing goes to stderr.\n",
            "W0705 01:50:55.124644 139801825548160 deprecation.py:506] From /usr/local/lib/python3.6/dist-packages/tensorflow/python/ops/init_ops.py:1251: calling VarianceScaling.__init__ (from tensorflow.python.ops.init_ops) with dtype is deprecated and will be removed in a future version.\n",
            "Instructions for updating:\n",
            "Call initializer instance with the dtype argument instead of passing it to the constructor\n"
          ],
          "name": "stderr"
        }
      ]
    },
    {
      "cell_type": "code",
      "metadata": {
        "id": "G88OBmEXBrsm",
        "colab_type": "code",
        "outputId": "185a66a8-9664-43c4-eae5-99e5582250ee",
        "colab": {
          "base_uri": "https://localhost:8080/",
          "height": 485
        }
      },
      "source": [
        "model.summary()"
      ],
      "execution_count": 7,
      "outputs": [
        {
          "output_type": "stream",
          "text": [
            "Model: \"sequential\"\n",
            "_________________________________________________________________\n",
            "Layer (type)                 Output Shape              Param #   \n",
            "=================================================================\n",
            "conv2d (Conv2D)              (None, 148, 148, 16)      448       \n",
            "_________________________________________________________________\n",
            "max_pooling2d (MaxPooling2D) (None, 74, 74, 16)        0         \n",
            "_________________________________________________________________\n",
            "conv2d_1 (Conv2D)            (None, 72, 72, 32)        4640      \n",
            "_________________________________________________________________\n",
            "max_pooling2d_1 (MaxPooling2 (None, 36, 36, 32)        0         \n",
            "_________________________________________________________________\n",
            "conv2d_2 (Conv2D)            (None, 34, 34, 64)        18496     \n",
            "_________________________________________________________________\n",
            "max_pooling2d_2 (MaxPooling2 (None, 17, 17, 64)        0         \n",
            "_________________________________________________________________\n",
            "flatten (Flatten)            (None, 18496)             0         \n",
            "_________________________________________________________________\n",
            "dense (Dense)                (None, 512)               9470464   \n",
            "_________________________________________________________________\n",
            "dense_1 (Dense)              (None, 1)                 513       \n",
            "=================================================================\n",
            "Total params: 9,494,561\n",
            "Trainable params: 9,494,561\n",
            "Non-trainable params: 0\n",
            "_________________________________________________________________\n"
          ],
          "name": "stdout"
        }
      ]
    },
    {
      "cell_type": "markdown",
      "metadata": {
        "id": "HCVi5z4EBw15",
        "colab_type": "text"
      },
      "source": [
        "Funcion de Perdida ...."
      ]
    },
    {
      "cell_type": "code",
      "metadata": {
        "id": "uo39eX7vB06Z",
        "colab_type": "code",
        "outputId": "ee2cc315-74b5-436f-e395-a6fca1ea497e",
        "colab": {
          "base_uri": "https://localhost:8080/",
          "height": 91
        }
      },
      "source": [
        "from tensorflow.keras.optimizers import RMSprop\n",
        "\n",
        "model.compile(optimizer=RMSprop(lr=0.001),\n",
        "              loss='binary_crossentropy',\n",
        "              metrics = ['acc'])"
      ],
      "execution_count": 8,
      "outputs": [
        {
          "output_type": "stream",
          "text": [
            "W0705 01:50:55.404207 139801825548160 deprecation.py:323] From /usr/local/lib/python3.6/dist-packages/tensorflow/python/ops/nn_impl.py:180: add_dispatch_support.<locals>.wrapper (from tensorflow.python.ops.array_ops) is deprecated and will be removed in a future version.\n",
            "Instructions for updating:\n",
            "Use tf.where in 2.0, which has the same broadcast rule as np.where\n"
          ],
          "name": "stderr"
        }
      ]
    },
    {
      "cell_type": "markdown",
      "metadata": {
        "id": "R69UpsLKCKh-",
        "colab_type": "text"
      },
      "source": [
        "## Preprocesamiento de datos"
      ]
    },
    {
      "cell_type": "code",
      "metadata": {
        "id": "G3rr1_M6CNMS",
        "colab_type": "code",
        "outputId": "07e546f7-e921-4d5a-fe00-5a203645abb6",
        "colab": {
          "base_uri": "https://localhost:8080/",
          "height": 53
        }
      },
      "source": [
        "from tensorflow.keras.preprocessing.image import ImageDataGenerator\n",
        "\n",
        "BATCH_SIZE = 20\n",
        "# All images will be rescaled by 1./255.\n",
        "train_datagen = ImageDataGenerator( rescale = 1.0/255. )\n",
        "test_datagen  = ImageDataGenerator( rescale = 1.0/255. )\n",
        "\n",
        "# --------------------\n",
        "# Flow training images in batches of 20 using train_datagen generator\n",
        "# --------------------\n",
        "train_generator = train_datagen.flow_from_directory(train_dir,\n",
        "                                                    batch_size=BATCH_SIZE,\n",
        "                                                    class_mode='binary',\n",
        "                                                    target_size=(150, 150))     \n",
        "# --------------------\n",
        "# Flow validation images in batches of 20 using test_datagen generator\n",
        "# --------------------\n",
        "validation_generator =  test_datagen.flow_from_directory(validation_dir,\n",
        "                                                         batch_size=BATCH_SIZE,\n",
        "                                                         class_mode  = 'binary',\n",
        "                                                         target_size = (150, 150))\n"
      ],
      "execution_count": 9,
      "outputs": [
        {
          "output_type": "stream",
          "text": [
            "Found 2000 images belonging to 2 classes.\n",
            "Found 1000 images belonging to 2 classes.\n"
          ],
          "name": "stdout"
        }
      ]
    },
    {
      "cell_type": "markdown",
      "metadata": {
        "id": "N0fs51qbDFyK",
        "colab_type": "text"
      },
      "source": [
        "### Entrenamienton sin data augmentation"
      ]
    },
    {
      "cell_type": "code",
      "metadata": {
        "id": "1FE4yiCuDIn8",
        "colab_type": "code",
        "outputId": "2805d375-8014-4436-8658-f20c184cf34f",
        "colab": {
          "base_uri": "https://localhost:8080/",
          "height": 1000
        }
      },
      "source": [
        "history_1 = model.fit_generator(train_generator,\n",
        "                              validation_data=validation_generator,\n",
        "                              steps_per_epoch=100,\n",
        "                              epochs=100,\n",
        "                              validation_steps=50,\n",
        "                              verbose=1)"
      ],
      "execution_count": 10,
      "outputs": [
        {
          "output_type": "stream",
          "text": [
            "Epoch 1/100\n",
            "100/100 [==============================] - 61s 610ms/step - loss: 0.8683 - acc: 0.5415 - val_loss: 0.6780 - val_acc: 0.6070\n",
            "Epoch 2/100\n",
            "100/100 [==============================] - 60s 595ms/step - loss: 0.6608 - acc: 0.6170 - val_loss: 0.6279 - val_acc: 0.6710\n",
            "Epoch 3/100\n",
            "100/100 [==============================] - 60s 598ms/step - loss: 0.5798 - acc: 0.7105 - val_loss: 0.6359 - val_acc: 0.6680\n",
            "Epoch 4/100\n",
            "100/100 [==============================] - 60s 597ms/step - loss: 0.4999 - acc: 0.7675 - val_loss: 0.6583 - val_acc: 0.6530\n",
            "Epoch 5/100\n",
            "100/100 [==============================] - 60s 597ms/step - loss: 0.3931 - acc: 0.8150 - val_loss: 0.7124 - val_acc: 0.6870\n",
            "Epoch 6/100\n",
            "100/100 [==============================] - 59s 594ms/step - loss: 0.3081 - acc: 0.8680 - val_loss: 0.6907 - val_acc: 0.6970\n",
            "Epoch 7/100\n",
            "100/100 [==============================] - 60s 598ms/step - loss: 0.2133 - acc: 0.9235 - val_loss: 0.8036 - val_acc: 0.7080\n",
            "Epoch 8/100\n",
            "100/100 [==============================] - 60s 600ms/step - loss: 0.1524 - acc: 0.9365 - val_loss: 0.8936 - val_acc: 0.7090\n",
            "Epoch 9/100\n",
            "100/100 [==============================] - 60s 597ms/step - loss: 0.1333 - acc: 0.9610 - val_loss: 1.1071 - val_acc: 0.6900\n",
            "Epoch 10/100\n",
            "100/100 [==============================] - 60s 599ms/step - loss: 0.0896 - acc: 0.9730 - val_loss: 1.7373 - val_acc: 0.6960\n",
            "Epoch 11/100\n",
            "100/100 [==============================] - 60s 599ms/step - loss: 0.0700 - acc: 0.9785 - val_loss: 1.6068 - val_acc: 0.6970\n",
            "Epoch 12/100\n",
            "100/100 [==============================] - 60s 597ms/step - loss: 0.0629 - acc: 0.9810 - val_loss: 1.7565 - val_acc: 0.7010\n",
            "Epoch 13/100\n",
            "100/100 [==============================] - 60s 600ms/step - loss: 0.0511 - acc: 0.9840 - val_loss: 1.7776 - val_acc: 0.6940\n",
            "Epoch 14/100\n",
            "100/100 [==============================] - 60s 599ms/step - loss: 0.0598 - acc: 0.9840 - val_loss: 1.6367 - val_acc: 0.6900\n",
            "Epoch 15/100\n",
            "100/100 [==============================] - 60s 601ms/step - loss: 0.0529 - acc: 0.9920 - val_loss: 2.2600 - val_acc: 0.6880\n",
            "Epoch 16/100\n",
            "100/100 [==============================] - 60s 600ms/step - loss: 0.0179 - acc: 0.9935 - val_loss: 2.4195 - val_acc: 0.6970\n",
            "Epoch 17/100\n",
            "100/100 [==============================] - 60s 601ms/step - loss: 0.0334 - acc: 0.9890 - val_loss: 2.3896 - val_acc: 0.6890\n",
            "Epoch 18/100\n",
            "100/100 [==============================] - 60s 603ms/step - loss: 0.1176 - acc: 0.9890 - val_loss: 2.0775 - val_acc: 0.7100\n",
            "Epoch 19/100\n",
            "100/100 [==============================] - 60s 604ms/step - loss: 0.1043 - acc: 0.9905 - val_loss: 2.4366 - val_acc: 0.6770\n",
            "Epoch 20/100\n",
            "100/100 [==============================] - 60s 604ms/step - loss: 0.0844 - acc: 0.9870 - val_loss: 2.7323 - val_acc: 0.6850\n",
            "Epoch 21/100\n",
            "100/100 [==============================] - 60s 603ms/step - loss: 0.0743 - acc: 0.9880 - val_loss: 2.5104 - val_acc: 0.7020\n",
            "Epoch 22/100\n",
            "100/100 [==============================] - 60s 597ms/step - loss: 0.0343 - acc: 0.9950 - val_loss: 2.9487 - val_acc: 0.6990\n",
            "Epoch 23/100\n",
            "100/100 [==============================] - 60s 599ms/step - loss: 0.0518 - acc: 0.9925 - val_loss: 3.0493 - val_acc: 0.6860\n",
            "Epoch 24/100\n",
            "100/100 [==============================] - 60s 598ms/step - loss: 0.0393 - acc: 0.9955 - val_loss: 2.9796 - val_acc: 0.6960\n",
            "Epoch 25/100\n",
            "100/100 [==============================] - 60s 598ms/step - loss: 0.2073 - acc: 0.9865 - val_loss: 2.7048 - val_acc: 0.7090\n",
            "Epoch 26/100\n",
            "100/100 [==============================] - 60s 600ms/step - loss: 2.7888e-04 - acc: 1.0000 - val_loss: 3.5956 - val_acc: 0.7020\n",
            "Epoch 27/100\n",
            "100/100 [==============================] - 60s 600ms/step - loss: 0.0886 - acc: 0.9950 - val_loss: 3.1003 - val_acc: 0.7030\n",
            "Epoch 28/100\n",
            "100/100 [==============================] - 60s 604ms/step - loss: 0.0399 - acc: 0.9930 - val_loss: 3.1407 - val_acc: 0.6830\n",
            "Epoch 29/100\n",
            "100/100 [==============================] - 60s 604ms/step - loss: 1.0391e-04 - acc: 1.0000 - val_loss: 3.8145 - val_acc: 0.7060\n",
            "Epoch 30/100\n",
            "100/100 [==============================] - 60s 603ms/step - loss: 0.1294 - acc: 0.9915 - val_loss: 3.0800 - val_acc: 0.6950\n",
            "Epoch 31/100\n",
            "100/100 [==============================] - 61s 606ms/step - loss: 0.0280 - acc: 0.9960 - val_loss: 3.9622 - val_acc: 0.7030\n",
            "Epoch 32/100\n",
            "100/100 [==============================] - 61s 606ms/step - loss: 0.0791 - acc: 0.9910 - val_loss: 2.9114 - val_acc: 0.6770\n",
            "Epoch 33/100\n",
            "100/100 [==============================] - 60s 603ms/step - loss: 0.0364 - acc: 0.9915 - val_loss: 3.2454 - val_acc: 0.6680\n",
            "Epoch 34/100\n",
            "100/100 [==============================] - 61s 605ms/step - loss: 0.0212 - acc: 0.9935 - val_loss: 4.2772 - val_acc: 0.6580\n",
            "Epoch 35/100\n",
            "100/100 [==============================] - 61s 606ms/step - loss: 0.0333 - acc: 0.9960 - val_loss: 5.5145 - val_acc: 0.5990\n",
            "Epoch 36/100\n",
            "100/100 [==============================] - 61s 608ms/step - loss: 0.0052 - acc: 0.9980 - val_loss: 4.5201 - val_acc: 0.6510\n",
            "Epoch 37/100\n",
            "100/100 [==============================] - 61s 607ms/step - loss: 0.0595 - acc: 0.9895 - val_loss: 3.5006 - val_acc: 0.6480\n",
            "Epoch 38/100\n",
            "100/100 [==============================] - 61s 608ms/step - loss: 0.0097 - acc: 0.9975 - val_loss: 3.8535 - val_acc: 0.6920\n",
            "Epoch 39/100\n",
            "100/100 [==============================] - 61s 608ms/step - loss: 0.0303 - acc: 0.9920 - val_loss: 3.4910 - val_acc: 0.6810\n",
            "Epoch 40/100\n",
            "100/100 [==============================] - 60s 603ms/step - loss: 0.0210 - acc: 0.9930 - val_loss: 3.8002 - val_acc: 0.6870\n",
            "Epoch 41/100\n",
            "100/100 [==============================] - 60s 605ms/step - loss: 7.9941e-05 - acc: 1.0000 - val_loss: 4.0680 - val_acc: 0.6980\n",
            "Epoch 42/100\n",
            "100/100 [==============================] - 60s 604ms/step - loss: 0.0818 - acc: 0.9940 - val_loss: 4.1229 - val_acc: 0.6950\n",
            "Epoch 43/100\n",
            "100/100 [==============================] - 60s 603ms/step - loss: 0.0228 - acc: 0.9970 - val_loss: 4.1449 - val_acc: 0.6960\n",
            "Epoch 44/100\n",
            "100/100 [==============================] - 61s 606ms/step - loss: 0.0059 - acc: 0.9980 - val_loss: 5.1085 - val_acc: 0.6900\n",
            "Epoch 45/100\n",
            "100/100 [==============================] - 60s 604ms/step - loss: 0.0020 - acc: 0.9990 - val_loss: 4.8096 - val_acc: 0.7010\n",
            "Epoch 46/100\n",
            "100/100 [==============================] - 60s 604ms/step - loss: 0.0441 - acc: 0.9965 - val_loss: 4.0728 - val_acc: 0.6830\n",
            "Epoch 47/100\n",
            "100/100 [==============================] - 60s 603ms/step - loss: 0.0016 - acc: 0.9990 - val_loss: 4.5205 - val_acc: 0.6680\n",
            "Epoch 48/100\n",
            "100/100 [==============================] - 60s 601ms/step - loss: 5.6766e-07 - acc: 1.0000 - val_loss: 5.1334 - val_acc: 0.6820\n",
            "Epoch 49/100\n",
            "100/100 [==============================] - 60s 603ms/step - loss: 0.0328 - acc: 0.9965 - val_loss: 4.3249 - val_acc: 0.6690\n",
            "Epoch 50/100\n",
            "100/100 [==============================] - 60s 601ms/step - loss: 8.6735e-05 - acc: 1.0000 - val_loss: 4.9490 - val_acc: 0.6800\n",
            "Epoch 51/100\n",
            "100/100 [==============================] - 60s 601ms/step - loss: 1.0619e-07 - acc: 1.0000 - val_loss: 5.3446 - val_acc: 0.6830\n",
            "Epoch 52/100\n",
            "100/100 [==============================] - 60s 602ms/step - loss: 0.0095 - acc: 0.9995 - val_loss: 6.1600 - val_acc: 0.6650\n",
            "Epoch 53/100\n",
            "100/100 [==============================] - 60s 600ms/step - loss: 0.0153 - acc: 0.9970 - val_loss: 5.8547 - val_acc: 0.6840\n",
            "Epoch 54/100\n",
            "100/100 [==============================] - 60s 601ms/step - loss: 0.0147 - acc: 0.9960 - val_loss: 5.5051 - val_acc: 0.6730\n",
            "Epoch 55/100\n",
            "100/100 [==============================] - 60s 599ms/step - loss: 8.1303e-06 - acc: 1.0000 - val_loss: 6.0416 - val_acc: 0.6890\n",
            "Epoch 56/100\n",
            "100/100 [==============================] - 60s 602ms/step - loss: 0.2202 - acc: 0.9925 - val_loss: 4.7934 - val_acc: 0.6660\n",
            "Epoch 57/100\n",
            "100/100 [==============================] - 60s 602ms/step - loss: 0.0061 - acc: 0.9980 - val_loss: 6.3137 - val_acc: 0.6830\n",
            "Epoch 58/100\n",
            "100/100 [==============================] - 60s 600ms/step - loss: 0.0475 - acc: 0.9955 - val_loss: 4.7944 - val_acc: 0.6810\n",
            "Epoch 59/100\n",
            "100/100 [==============================] - 60s 600ms/step - loss: 0.0136 - acc: 0.9995 - val_loss: 5.7232 - val_acc: 0.6800\n",
            "Epoch 60/100\n",
            "100/100 [==============================] - 60s 602ms/step - loss: 0.0099 - acc: 0.9990 - val_loss: 5.4959 - val_acc: 0.6820\n",
            "Epoch 61/100\n",
            "100/100 [==============================] - 60s 597ms/step - loss: 0.1603 - acc: 0.9920 - val_loss: 5.3890 - val_acc: 0.7050\n",
            "Epoch 62/100\n",
            "100/100 [==============================] - 60s 598ms/step - loss: 0.0558 - acc: 0.9955 - val_loss: 6.6837 - val_acc: 0.6710\n",
            "Epoch 63/100\n",
            "100/100 [==============================] - 60s 596ms/step - loss: 0.0087 - acc: 0.9980 - val_loss: 5.2115 - val_acc: 0.6720\n",
            "Epoch 64/100\n",
            "100/100 [==============================] - 59s 593ms/step - loss: 0.0123 - acc: 0.9970 - val_loss: 7.6034 - val_acc: 0.6590\n",
            "Epoch 65/100\n",
            "100/100 [==============================] - 59s 593ms/step - loss: 6.8237e-04 - acc: 0.9995 - val_loss: 6.4749 - val_acc: 0.6800\n",
            "Epoch 66/100\n",
            "100/100 [==============================] - 59s 594ms/step - loss: 1.1771e-06 - acc: 1.0000 - val_loss: 6.9704 - val_acc: 0.6910\n",
            "Epoch 67/100\n",
            "100/100 [==============================] - 59s 594ms/step - loss: 2.9018e-09 - acc: 1.0000 - val_loss: 7.6144 - val_acc: 0.6940\n",
            "Epoch 68/100\n",
            "100/100 [==============================] - 62s 617ms/step - loss: 2.3728e-10 - acc: 1.0000 - val_loss: 7.8809 - val_acc: 0.6930\n",
            "Epoch 69/100\n",
            "100/100 [==============================] - 61s 607ms/step - loss: 1.1062e-10 - acc: 1.0000 - val_loss: 7.9517 - val_acc: 0.6930\n",
            "Epoch 70/100\n",
            "100/100 [==============================] - 61s 606ms/step - loss: 9.1038e-11 - acc: 1.0000 - val_loss: 7.9890 - val_acc: 0.6940\n",
            "Epoch 71/100\n",
            "100/100 [==============================] - 60s 604ms/step - loss: 9.3940e-11 - acc: 1.0000 - val_loss: 8.1189 - val_acc: 0.6910\n",
            "Epoch 72/100\n",
            "100/100 [==============================] - 60s 604ms/step - loss: 5.3506e-11 - acc: 1.0000 - val_loss: 8.1270 - val_acc: 0.6920\n",
            "Epoch 73/100\n",
            "100/100 [==============================] - 60s 604ms/step - loss: 5.4179e-11 - acc: 1.0000 - val_loss: 8.1415 - val_acc: 0.6930\n",
            "Epoch 74/100\n",
            "100/100 [==============================] - 60s 605ms/step - loss: 5.3959e-11 - acc: 1.0000 - val_loss: 8.1559 - val_acc: 0.6930\n",
            "Epoch 75/100\n",
            "100/100 [==============================] - 60s 604ms/step - loss: 5.5598e-11 - acc: 1.0000 - val_loss: 8.1687 - val_acc: 0.6930\n",
            "Epoch 76/100\n",
            "100/100 [==============================] - 60s 602ms/step - loss: 5.7088e-11 - acc: 1.0000 - val_loss: 8.1794 - val_acc: 0.6940\n",
            "Epoch 77/100\n",
            "100/100 [==============================] - 60s 602ms/step - loss: 6.1452e-11 - acc: 1.0000 - val_loss: 8.1893 - val_acc: 0.6930\n",
            "Epoch 78/100\n",
            "100/100 [==============================] - 60s 601ms/step - loss: 6.5215e-11 - acc: 1.0000 - val_loss: 8.1983 - val_acc: 0.6930\n",
            "Epoch 79/100\n",
            "100/100 [==============================] - 60s 601ms/step - loss: 6.9994e-11 - acc: 1.0000 - val_loss: 8.2065 - val_acc: 0.6930\n",
            "Epoch 80/100\n",
            "100/100 [==============================] - 60s 603ms/step - loss: 7.0070e-11 - acc: 1.0000 - val_loss: 8.2138 - val_acc: 0.6930\n",
            "Epoch 81/100\n",
            "100/100 [==============================] - 60s 602ms/step - loss: 7.6235e-11 - acc: 1.0000 - val_loss: 8.2207 - val_acc: 0.6930\n",
            "Epoch 82/100\n",
            "100/100 [==============================] - 60s 602ms/step - loss: 7.7043e-11 - acc: 1.0000 - val_loss: 8.2271 - val_acc: 0.6950\n",
            "Epoch 83/100\n",
            "100/100 [==============================] - 60s 604ms/step - loss: 6.9414e-11 - acc: 1.0000 - val_loss: 8.2298 - val_acc: 0.6970\n",
            "Epoch 84/100\n",
            "100/100 [==============================] - 60s 605ms/step - loss: 4.8635e-11 - acc: 1.0000 - val_loss: 8.2272 - val_acc: 0.6960\n",
            "Epoch 85/100\n",
            "100/100 [==============================] - 61s 606ms/step - loss: 2.8838e-11 - acc: 1.0000 - val_loss: 8.2401 - val_acc: 0.6970\n",
            "Epoch 86/100\n",
            "100/100 [==============================] - 60s 602ms/step - loss: 2.8246e-11 - acc: 1.0000 - val_loss: 8.2512 - val_acc: 0.6970\n",
            "Epoch 87/100\n",
            "100/100 [==============================] - 60s 604ms/step - loss: 2.9869e-11 - acc: 1.0000 - val_loss: 8.2611 - val_acc: 0.6970\n",
            "Epoch 88/100\n",
            "100/100 [==============================] - 60s 603ms/step - loss: 2.9722e-11 - acc: 1.0000 - val_loss: 8.2700 - val_acc: 0.6960\n",
            "Epoch 89/100\n",
            "100/100 [==============================] - 60s 602ms/step - loss: 3.1680e-11 - acc: 1.0000 - val_loss: 8.2780 - val_acc: 0.6960\n",
            "Epoch 90/100\n",
            "100/100 [==============================] - 60s 601ms/step - loss: 3.2491e-11 - acc: 1.0000 - val_loss: 8.2854 - val_acc: 0.6960\n",
            "Epoch 91/100\n",
            "100/100 [==============================] - 60s 604ms/step - loss: 3.3240e-11 - acc: 1.0000 - val_loss: 8.2924 - val_acc: 0.6960\n",
            "Epoch 92/100\n",
            "100/100 [==============================] - 60s 602ms/step - loss: 3.5834e-11 - acc: 1.0000 - val_loss: 8.2990 - val_acc: 0.6950\n",
            "Epoch 93/100\n",
            "100/100 [==============================] - 60s 600ms/step - loss: 3.6479e-11 - acc: 1.0000 - val_loss: 8.3049 - val_acc: 0.6950\n",
            "Epoch 94/100\n",
            "100/100 [==============================] - 60s 600ms/step - loss: 3.7842e-11 - acc: 1.0000 - val_loss: 8.3107 - val_acc: 0.6940\n",
            "Epoch 95/100\n",
            "100/100 [==============================] - 60s 600ms/step - loss: 3.8948e-11 - acc: 1.0000 - val_loss: 8.3161 - val_acc: 0.6930\n",
            "Epoch 96/100\n",
            "100/100 [==============================] - 60s 601ms/step - loss: 4.0747e-11 - acc: 1.0000 - val_loss: 8.3212 - val_acc: 0.6940\n",
            "Epoch 97/100\n",
            "100/100 [==============================] - 60s 602ms/step - loss: 4.0581e-11 - acc: 1.0000 - val_loss: 8.3262 - val_acc: 0.6940\n",
            "Epoch 98/100\n",
            "100/100 [==============================] - 60s 604ms/step - loss: 4.1839e-11 - acc: 1.0000 - val_loss: 8.3310 - val_acc: 0.6950\n",
            "Epoch 99/100\n",
            "100/100 [==============================] - 60s 602ms/step - loss: 4.3213e-11 - acc: 1.0000 - val_loss: 8.3355 - val_acc: 0.6950\n",
            "Epoch 100/100\n",
            "100/100 [==============================] - 60s 601ms/step - loss: 4.4597e-11 - acc: 1.0000 - val_loss: 8.3399 - val_acc: 0.6950\n"
          ],
          "name": "stdout"
        }
      ]
    },
    {
      "cell_type": "markdown",
      "metadata": {
        "id": "yeoYWlfPHcDm",
        "colab_type": "text"
      },
      "source": [
        "### Evaluacion del modelo\n"
      ]
    },
    {
      "cell_type": "code",
      "metadata": {
        "id": "s4WFgvNJHeqn",
        "colab_type": "code",
        "outputId": "756b6ac3-79cf-4a3d-f95d-75247dc4e101",
        "colab": {
          "base_uri": "https://localhost:8080/",
          "height": 71
        }
      },
      "source": [
        "model_loss, model_acc = model.evaluate_generator(generator=validation_generator, \n",
        "                         steps= validation_generator.n // BATCH_SIZE,\n",
        "                         verbose=1)\n",
        "\n",
        "print('model loss is {} \\nmodel acc is {}'.format(model_loss, model_acc))"
      ],
      "execution_count": 11,
      "outputs": [
        {
          "output_type": "stream",
          "text": [
            "50/50 [==============================] - 9s 182ms/step - loss: 8.3399 - acc: 0.6950\n",
            "model loss is 8.339926493167876 \n",
            "model acc is 0.6949999928474426\n"
          ],
          "name": "stdout"
        }
      ]
    },
    {
      "cell_type": "markdown",
      "metadata": {
        "id": "_2IG1dUNDyK9",
        "colab_type": "text"
      },
      "source": [
        "### Ploteando el entrenamiento"
      ]
    },
    {
      "cell_type": "code",
      "metadata": {
        "id": "1A3KaExkD0rR",
        "colab_type": "code",
        "outputId": "784764aa-56a9-44f1-efc6-609c07ab1f09",
        "colab": {
          "base_uri": "https://localhost:8080/",
          "height": 563
        }
      },
      "source": [
        "import matplotlib.pyplot as plt\n",
        "acc = history_1.history['acc']\n",
        "val_acc = history_1.history['val_acc']\n",
        "loss = history_1.history['loss']\n",
        "val_loss = history_1.history['val_acc']\n",
        "\n",
        "epochs = range(len(acc))\n",
        "\n",
        "plt.plot(epochs, acc, 'r', label='Training Accuracy')\n",
        "plt.plot(epochs, val_acc, 'b', label='Validation Accuracy')\n",
        "plt.title('Training and validation accuracy')\n",
        "plt.legend(loc=0)\n",
        "plt.figure()\n",
        "\n",
        "plt.plot(epochs, loss, 'r', label='Training Loss')\n",
        "plt.plot(epochs, val_loss, 'b', label='Validation Loss')\n",
        "plt.title('Training and validation loss curve')\n",
        "plt.legend(loc=0)\n",
        "plt.figure()\n",
        "\n",
        "\n",
        "\n",
        "\n",
        "plt.show()\n",
        "\n"
      ],
      "execution_count": 12,
      "outputs": [
        {
          "output_type": "display_data",
          "data": {
            "image/png": "[encoded data removed]",
            "text/plain": [
              "<Figure size 432x288 with 1 Axes>"
            ]
          },
          "metadata": {
            "tags": []
          }
        },
        {
          "output_type": "display_data",
          "data": {
            "image/png": "[encoded data removed]",
            "text/plain": [
              "<Figure size 432x288 with 1 Axes>"
            ]
          },
          "metadata": {
            "tags": []
          }
        },
        {
          "output_type": "display_data",
          "data": {
            "text/plain": [
              "<Figure size 432x288 with 0 Axes>"
            ]
          },
          "metadata": {
            "tags": []
          }
        }
      ]
    },
    {
      "cell_type": "markdown",
      "metadata": {
        "id": "uFUGoAYOIiJy",
        "colab_type": "text"
      },
      "source": [
        "## Utilizando Data Augmentation"
      ]
    },
    {
      "cell_type": "code",
      "metadata": {
        "id": "jSa6MkJ1Ikbl",
        "colab_type": "code",
        "outputId": "c6312a08-003b-4884-d4da-5b20de789530",
        "colab": {
          "base_uri": "https://localhost:8080/",
          "height": 35
        }
      },
      "source": [
        "from tensorflow.keras.preprocessing.image import ImageDataGenerator\n",
        "BATCH_SIZE = 20\n",
        "# All images will be rescaled by 1./255.\n",
        "train_datagen_aug = ImageDataGenerator( rescale = 1.0/255.,\n",
        "                                    rotation_range = 40,\n",
        "                                    width_shift_range = 0.2,\n",
        "                                    height_shift_range = 0.2,\n",
        "                                    shear_range = 0.2,\n",
        "                                    zoom_range = 0.2,\n",
        "                                    horizontal_flip = True,\n",
        "                                    vertical_flip = True)\n",
        "\n",
        "\n",
        "# --------------------\n",
        "# Flow training images in batches of 20 using train_datagen generator\n",
        "# --------------------\n",
        "train_generator_aug = train_datagen_aug.flow_from_directory(train_dir,\n",
        "                                                    batch_size=BATCH_SIZE,\n",
        "                                                    class_mode='binary',\n",
        "                                                    target_size=(150, 150))     \n"
      ],
      "execution_count": 13,
      "outputs": [
        {
          "output_type": "stream",
          "text": [
            "Found 2000 images belonging to 2 classes.\n"
          ],
          "name": "stdout"
        }
      ]
    },
    {
      "cell_type": "code",
      "metadata": {
        "id": "AwcEnL2mJdDb",
        "colab_type": "code",
        "outputId": "4ffb3317-5b7d-4186-8ab3-6da7c651d3bc",
        "colab": {
          "base_uri": "https://localhost:8080/",
          "height": 1000
        }
      },
      "source": [
        "history_2 = model.fit_generator(train_generator_aug,\n",
        "                              validation_data=validation_generator,\n",
        "                              steps_per_epoch=100,\n",
        "                              epochs=100,\n",
        "                              validation_steps=50,\n",
        "                              verbose=1)"
      ],
      "execution_count": 14,
      "outputs": [
        {
          "output_type": "stream",
          "text": [
            "Epoch 1/100\n",
            "100/100 [==============================] - 70s 696ms/step - loss: 1.3078 - acc: 0.5410 - val_loss: 0.6345 - val_acc: 0.6480\n",
            "Epoch 2/100\n",
            "100/100 [==============================] - 68s 678ms/step - loss: 0.6746 - acc: 0.6245 - val_loss: 0.6769 - val_acc: 0.6440\n",
            "Epoch 3/100\n",
            "100/100 [==============================] - 68s 676ms/step - loss: 0.6720 - acc: 0.6170 - val_loss: 0.5630 - val_acc: 0.7040\n",
            "Epoch 4/100\n",
            "100/100 [==============================] - 68s 675ms/step - loss: 0.6341 - acc: 0.6470 - val_loss: 0.5683 - val_acc: 0.7120\n",
            "Epoch 5/100\n",
            "100/100 [==============================] - 68s 676ms/step - loss: 0.6399 - acc: 0.6535 - val_loss: 0.5577 - val_acc: 0.7220\n",
            "Epoch 6/100\n",
            "100/100 [==============================] - 67s 674ms/step - loss: 0.6355 - acc: 0.6470 - val_loss: 0.5926 - val_acc: 0.6420\n",
            "Epoch 7/100\n",
            "100/100 [==============================] - 67s 673ms/step - loss: 0.6234 - acc: 0.6515 - val_loss: 0.5969 - val_acc: 0.6990\n",
            "Epoch 8/100\n",
            "100/100 [==============================] - 68s 676ms/step - loss: 0.6081 - acc: 0.6870 - val_loss: 0.5468 - val_acc: 0.7230\n",
            "Epoch 9/100\n",
            "100/100 [==============================] - 67s 674ms/step - loss: 0.6242 - acc: 0.6695 - val_loss: 0.5850 - val_acc: 0.7100\n",
            "Epoch 10/100\n",
            "100/100 [==============================] - 67s 674ms/step - loss: 0.6141 - acc: 0.6755 - val_loss: 0.5693 - val_acc: 0.7120\n",
            "Epoch 11/100\n",
            "100/100 [==============================] - 67s 672ms/step - loss: 0.6120 - acc: 0.6765 - val_loss: 0.5899 - val_acc: 0.7010\n",
            "Epoch 12/100\n",
            "100/100 [==============================] - 67s 672ms/step - loss: 0.6108 - acc: 0.6745 - val_loss: 0.5547 - val_acc: 0.7180\n",
            "Epoch 13/100\n",
            "100/100 [==============================] - 67s 675ms/step - loss: 0.5905 - acc: 0.6950 - val_loss: 0.6081 - val_acc: 0.6600\n",
            "Epoch 14/100\n",
            "100/100 [==============================] - 67s 675ms/step - loss: 0.6049 - acc: 0.6815 - val_loss: 0.5363 - val_acc: 0.7310\n",
            "Epoch 15/100\n",
            "100/100 [==============================] - 68s 676ms/step - loss: 0.5791 - acc: 0.6890 - val_loss: 0.5526 - val_acc: 0.7210\n",
            "Epoch 16/100\n",
            "100/100 [==============================] - 67s 675ms/step - loss: 0.5946 - acc: 0.6835 - val_loss: 0.5390 - val_acc: 0.7420\n",
            "Epoch 17/100\n",
            "100/100 [==============================] - 67s 672ms/step - loss: 0.5852 - acc: 0.6895 - val_loss: 0.5642 - val_acc: 0.7110\n",
            "Epoch 18/100\n",
            "100/100 [==============================] - 68s 676ms/step - loss: 0.5852 - acc: 0.6975 - val_loss: 0.5643 - val_acc: 0.6930\n",
            "Epoch 19/100\n",
            "100/100 [==============================] - 68s 677ms/step - loss: 0.5934 - acc: 0.6895 - val_loss: 0.5505 - val_acc: 0.7240\n",
            "Epoch 20/100\n",
            "100/100 [==============================] - 68s 679ms/step - loss: 0.5907 - acc: 0.6850 - val_loss: 0.5716 - val_acc: 0.7020\n",
            "Epoch 21/100\n",
            "100/100 [==============================] - 68s 678ms/step - loss: 0.5762 - acc: 0.7095 - val_loss: 0.5890 - val_acc: 0.6970\n",
            "Epoch 22/100\n",
            "100/100 [==============================] - 67s 674ms/step - loss: 0.5807 - acc: 0.6925 - val_loss: 0.5723 - val_acc: 0.6950\n",
            "Epoch 23/100\n",
            "100/100 [==============================] - 67s 672ms/step - loss: 0.5920 - acc: 0.6970 - val_loss: 0.5775 - val_acc: 0.7130\n",
            "Epoch 24/100\n",
            "100/100 [==============================] - 67s 672ms/step - loss: 0.5815 - acc: 0.7065 - val_loss: 0.5734 - val_acc: 0.7040\n",
            "Epoch 25/100\n",
            "100/100 [==============================] - 67s 672ms/step - loss: 0.5810 - acc: 0.7000 - val_loss: 0.5413 - val_acc: 0.7380\n",
            "Epoch 26/100\n",
            "100/100 [==============================] - 67s 671ms/step - loss: 0.5679 - acc: 0.7175 - val_loss: 0.5973 - val_acc: 0.7050\n",
            "Epoch 27/100\n",
            "100/100 [==============================] - 67s 672ms/step - loss: 0.5654 - acc: 0.7120 - val_loss: 0.8486 - val_acc: 0.6950\n",
            "Epoch 28/100\n",
            "100/100 [==============================] - 67s 674ms/step - loss: 0.5862 - acc: 0.6975 - val_loss: 0.6437 - val_acc: 0.7100\n",
            "Epoch 29/100\n",
            "100/100 [==============================] - 67s 674ms/step - loss: 0.5689 - acc: 0.7245 - val_loss: 0.5601 - val_acc: 0.7380\n",
            "Epoch 30/100\n",
            "100/100 [==============================] - 67s 673ms/step - loss: 0.5757 - acc: 0.6995 - val_loss: 0.5513 - val_acc: 0.7310\n",
            "Epoch 31/100\n",
            "100/100 [==============================] - 67s 674ms/step - loss: 0.5677 - acc: 0.7120 - val_loss: 0.5859 - val_acc: 0.7310\n",
            "Epoch 32/100\n",
            "100/100 [==============================] - 67s 673ms/step - loss: 0.5778 - acc: 0.7075 - val_loss: 0.5316 - val_acc: 0.7470\n",
            "Epoch 33/100\n",
            "100/100 [==============================] - 67s 674ms/step - loss: 0.5598 - acc: 0.7180 - val_loss: 0.5856 - val_acc: 0.7150\n",
            "Epoch 34/100\n",
            "100/100 [==============================] - 67s 672ms/step - loss: 0.5788 - acc: 0.7055 - val_loss: 0.6359 - val_acc: 0.7170\n",
            "Epoch 35/100\n",
            "100/100 [==============================] - 67s 669ms/step - loss: 0.5649 - acc: 0.7070 - val_loss: 0.5631 - val_acc: 0.6940\n",
            "Epoch 36/100\n",
            "100/100 [==============================] - 67s 671ms/step - loss: 0.5547 - acc: 0.7115 - val_loss: 0.5587 - val_acc: 0.7210\n",
            "Epoch 37/100\n",
            "100/100 [==============================] - 66s 662ms/step - loss: 0.5731 - acc: 0.7200 - val_loss: 0.5549 - val_acc: 0.7240\n",
            "Epoch 38/100\n",
            "100/100 [==============================] - 70s 696ms/step - loss: 0.5638 - acc: 0.7070 - val_loss: 0.5614 - val_acc: 0.7190\n",
            "Epoch 39/100\n",
            "100/100 [==============================] - 67s 667ms/step - loss: 0.5658 - acc: 0.7190 - val_loss: 0.5431 - val_acc: 0.7370\n",
            "Epoch 40/100\n",
            "100/100 [==============================] - 67s 671ms/step - loss: 0.5672 - acc: 0.7075 - val_loss: 0.5712 - val_acc: 0.7300\n",
            "Epoch 41/100\n",
            "100/100 [==============================] - 67s 669ms/step - loss: 0.5665 - acc: 0.7130 - val_loss: 0.5813 - val_acc: 0.6830\n",
            "Epoch 42/100\n",
            "100/100 [==============================] - 67s 672ms/step - loss: 0.5544 - acc: 0.7145 - val_loss: 0.5341 - val_acc: 0.7480\n",
            "Epoch 43/100\n",
            "100/100 [==============================] - 67s 672ms/step - loss: 0.5524 - acc: 0.7315 - val_loss: 0.5851 - val_acc: 0.7240\n",
            "Epoch 44/100\n",
            "100/100 [==============================] - 67s 671ms/step - loss: 0.5479 - acc: 0.7285 - val_loss: 0.6351 - val_acc: 0.7290\n",
            "Epoch 45/100\n",
            "100/100 [==============================] - 67s 671ms/step - loss: 0.5584 - acc: 0.7185 - val_loss: 0.5486 - val_acc: 0.7290\n",
            "Epoch 46/100\n",
            "100/100 [==============================] - 67s 673ms/step - loss: 0.5574 - acc: 0.7340 - val_loss: 0.5225 - val_acc: 0.7520\n",
            "Epoch 47/100\n",
            "100/100 [==============================] - 67s 673ms/step - loss: 0.5626 - acc: 0.7115 - val_loss: 0.5579 - val_acc: 0.7470\n",
            "Epoch 48/100\n",
            "100/100 [==============================] - 67s 671ms/step - loss: 0.5713 - acc: 0.7105 - val_loss: 0.5521 - val_acc: 0.7320\n",
            "Epoch 49/100\n",
            "100/100 [==============================] - 67s 670ms/step - loss: 0.5584 - acc: 0.7120 - val_loss: 0.5527 - val_acc: 0.7140\n",
            "Epoch 50/100\n",
            "100/100 [==============================] - 67s 672ms/step - loss: 0.5606 - acc: 0.7160 - val_loss: 0.5264 - val_acc: 0.7320\n",
            "Epoch 51/100\n",
            "100/100 [==============================] - 67s 672ms/step - loss: 0.5547 - acc: 0.7165 - val_loss: 0.6105 - val_acc: 0.7090\n",
            "Epoch 52/100\n",
            "100/100 [==============================] - 68s 676ms/step - loss: 0.5476 - acc: 0.7240 - val_loss: 0.5349 - val_acc: 0.7510\n",
            "Epoch 53/100\n",
            "100/100 [==============================] - 67s 674ms/step - loss: 0.5497 - acc: 0.7230 - val_loss: 0.5525 - val_acc: 0.7020\n",
            "Epoch 54/100\n",
            "100/100 [==============================] - 68s 677ms/step - loss: 0.5536 - acc: 0.7300 - val_loss: 0.5453 - val_acc: 0.7430\n",
            "Epoch 55/100\n",
            "100/100 [==============================] - 68s 675ms/step - loss: 0.5413 - acc: 0.7180 - val_loss: 0.6571 - val_acc: 0.7070\n",
            "Epoch 56/100\n",
            "100/100 [==============================] - 67s 674ms/step - loss: 0.5394 - acc: 0.7345 - val_loss: 0.5227 - val_acc: 0.7480\n",
            "Epoch 57/100\n",
            "100/100 [==============================] - 67s 675ms/step - loss: 0.5417 - acc: 0.7290 - val_loss: 0.5714 - val_acc: 0.7260\n",
            "Epoch 58/100\n",
            "100/100 [==============================] - 67s 674ms/step - loss: 0.5600 - acc: 0.7185 - val_loss: 0.5348 - val_acc: 0.7180\n",
            "Epoch 59/100\n",
            "100/100 [==============================] - 67s 673ms/step - loss: 0.5610 - acc: 0.7210 - val_loss: 0.8878 - val_acc: 0.6730\n",
            "Epoch 60/100\n",
            "100/100 [==============================] - 67s 675ms/step - loss: 0.5546 - acc: 0.7295 - val_loss: 0.6224 - val_acc: 0.7020\n",
            "Epoch 61/100\n",
            "100/100 [==============================] - 68s 676ms/step - loss: 0.5373 - acc: 0.7320 - val_loss: 0.6279 - val_acc: 0.7100\n",
            "Epoch 62/100\n",
            "100/100 [==============================] - 67s 670ms/step - loss: 0.5338 - acc: 0.7395 - val_loss: 0.6846 - val_acc: 0.6920\n",
            "Epoch 63/100\n",
            "100/100 [==============================] - 67s 670ms/step - loss: 0.5425 - acc: 0.7170 - val_loss: 0.5646 - val_acc: 0.7180\n",
            "Epoch 64/100\n",
            "100/100 [==============================] - 67s 673ms/step - loss: 0.5472 - acc: 0.7200 - val_loss: 0.5304 - val_acc: 0.7460\n",
            "Epoch 65/100\n",
            "100/100 [==============================] - 67s 674ms/step - loss: 0.5480 - acc: 0.7265 - val_loss: 0.5349 - val_acc: 0.7450\n",
            "Epoch 66/100\n",
            "100/100 [==============================] - 67s 673ms/step - loss: 0.5551 - acc: 0.7320 - val_loss: 0.6250 - val_acc: 0.6580\n",
            "Epoch 67/100\n",
            "100/100 [==============================] - 67s 671ms/step - loss: 0.5453 - acc: 0.7325 - val_loss: 0.5673 - val_acc: 0.7270\n",
            "Epoch 68/100\n",
            "100/100 [==============================] - 67s 673ms/step - loss: 0.5542 - acc: 0.7195 - val_loss: 0.5583 - val_acc: 0.7310\n",
            "Epoch 69/100\n",
            "100/100 [==============================] - 67s 675ms/step - loss: 0.5555 - acc: 0.7280 - val_loss: 0.5583 - val_acc: 0.7320\n",
            "Epoch 70/100\n",
            "100/100 [==============================] - 68s 677ms/step - loss: 0.5387 - acc: 0.7320 - val_loss: 0.5484 - val_acc: 0.7320\n",
            "Epoch 71/100\n",
            "100/100 [==============================] - 67s 672ms/step - loss: 0.5453 - acc: 0.7395 - val_loss: 0.5462 - val_acc: 0.7440\n",
            "Epoch 72/100\n",
            "100/100 [==============================] - 67s 672ms/step - loss: 0.5425 - acc: 0.7395 - val_loss: 0.5425 - val_acc: 0.7450\n",
            "Epoch 73/100\n",
            "100/100 [==============================] - 68s 675ms/step - loss: 0.5410 - acc: 0.7375 - val_loss: 0.5899 - val_acc: 0.7340\n",
            "Epoch 74/100\n",
            "100/100 [==============================] - 68s 677ms/step - loss: 0.5456 - acc: 0.7305 - val_loss: 0.5650 - val_acc: 0.7170\n",
            "Epoch 75/100\n",
            "100/100 [==============================] - 68s 681ms/step - loss: 0.5276 - acc: 0.7405 - val_loss: 0.5374 - val_acc: 0.7460\n",
            "Epoch 76/100\n",
            "100/100 [==============================] - 68s 678ms/step - loss: 0.5362 - acc: 0.7320 - val_loss: 0.5227 - val_acc: 0.7550\n",
            "Epoch 77/100\n",
            "100/100 [==============================] - 68s 678ms/step - loss: 0.5411 - acc: 0.7315 - val_loss: 0.5650 - val_acc: 0.7010\n",
            "Epoch 78/100\n",
            "100/100 [==============================] - 68s 676ms/step - loss: 0.5425 - acc: 0.7325 - val_loss: 0.5579 - val_acc: 0.7330\n",
            "Epoch 79/100\n",
            "100/100 [==============================] - 68s 680ms/step - loss: 0.5396 - acc: 0.7280 - val_loss: 0.6207 - val_acc: 0.7220\n",
            "Epoch 80/100\n",
            "100/100 [==============================] - 67s 673ms/step - loss: 0.5226 - acc: 0.7400 - val_loss: 0.5389 - val_acc: 0.7380\n",
            "Epoch 81/100\n",
            "100/100 [==============================] - 67s 673ms/step - loss: 0.5302 - acc: 0.7350 - val_loss: 0.7226 - val_acc: 0.6980\n",
            "Epoch 82/100\n",
            "100/100 [==============================] - 67s 672ms/step - loss: 0.5362 - acc: 0.7390 - val_loss: 0.5615 - val_acc: 0.7220\n",
            "Epoch 83/100\n",
            "100/100 [==============================] - 67s 671ms/step - loss: 0.5455 - acc: 0.7295 - val_loss: 0.6021 - val_acc: 0.7010\n",
            "Epoch 84/100\n",
            "100/100 [==============================] - 67s 672ms/step - loss: 0.5496 - acc: 0.7390 - val_loss: 0.5348 - val_acc: 0.7370\n",
            "Epoch 85/100\n",
            "100/100 [==============================] - 67s 671ms/step - loss: 0.5513 - acc: 0.7280 - val_loss: 1.1236 - val_acc: 0.5820\n",
            "Epoch 86/100\n",
            "100/100 [==============================] - 67s 670ms/step - loss: 0.5543 - acc: 0.7265 - val_loss: 0.5446 - val_acc: 0.7470\n",
            "Epoch 87/100\n",
            "100/100 [==============================] - 67s 669ms/step - loss: 0.5240 - acc: 0.7400 - val_loss: 0.7365 - val_acc: 0.6950\n",
            "Epoch 88/100\n",
            "100/100 [==============================] - 67s 670ms/step - loss: 0.5201 - acc: 0.7455 - val_loss: 0.5743 - val_acc: 0.7240\n",
            "Epoch 89/100\n",
            "100/100 [==============================] - 67s 668ms/step - loss: 0.5356 - acc: 0.7465 - val_loss: 0.5534 - val_acc: 0.7430\n",
            "Epoch 90/100\n",
            "100/100 [==============================] - 67s 672ms/step - loss: 0.5399 - acc: 0.7320 - val_loss: 0.5320 - val_acc: 0.7230\n",
            "Epoch 91/100\n",
            "100/100 [==============================] - 67s 670ms/step - loss: 0.5328 - acc: 0.7500 - val_loss: 0.5574 - val_acc: 0.7090\n",
            "Epoch 92/100\n",
            "100/100 [==============================] - 67s 670ms/step - loss: 0.5427 - acc: 0.7425 - val_loss: 0.5162 - val_acc: 0.7490\n",
            "Epoch 93/100\n",
            "100/100 [==============================] - 67s 670ms/step - loss: 0.5340 - acc: 0.7320 - val_loss: 0.5454 - val_acc: 0.7350\n",
            "Epoch 94/100\n",
            "100/100 [==============================] - 67s 671ms/step - loss: 0.5303 - acc: 0.7275 - val_loss: 0.5200 - val_acc: 0.7370\n",
            "Epoch 95/100\n",
            "100/100 [==============================] - 67s 672ms/step - loss: 0.5321 - acc: 0.7540 - val_loss: 0.5672 - val_acc: 0.7220\n",
            "Epoch 96/100\n",
            "100/100 [==============================] - 67s 672ms/step - loss: 0.5419 - acc: 0.7240 - val_loss: 0.8519 - val_acc: 0.7140\n",
            "Epoch 97/100\n",
            "100/100 [==============================] - 67s 670ms/step - loss: 0.5341 - acc: 0.7315 - val_loss: 0.5357 - val_acc: 0.7220\n",
            "Epoch 98/100\n",
            "100/100 [==============================] - 67s 672ms/step - loss: 0.5397 - acc: 0.7505 - val_loss: 0.5243 - val_acc: 0.7400\n",
            "Epoch 99/100\n",
            "100/100 [==============================] - 67s 668ms/step - loss: 0.5263 - acc: 0.7470 - val_loss: 0.5737 - val_acc: 0.7270\n",
            "Epoch 100/100\n",
            "100/100 [==============================] - 67s 671ms/step - loss: 0.5421 - acc: 0.7470 - val_loss: 0.5919 - val_acc: 0.7120\n"
          ],
          "name": "stdout"
        }
      ]
    },
    {
      "cell_type": "code",
      "metadata": {
        "id": "J3MGFpOBLh5Z",
        "colab_type": "code",
        "outputId": "e0e54043-8251-497d-d6e7-53f9113168f6",
        "colab": {
          "base_uri": "https://localhost:8080/",
          "height": 71
        }
      },
      "source": [
        "model_loss, model_acc = model.evaluate_generator(generator=validation_generator, \n",
        "                         steps= validation_generator.n // BATCH_SIZE,\n",
        "                         verbose=1)\n",
        "\n",
        "print('model loss is {} \\nmodel acc is {}'.format(model_loss, model_acc))"
      ],
      "execution_count": 15,
      "outputs": [
        {
          "output_type": "stream",
          "text": [
            "50/50 [==============================] - 9s 181ms/step - loss: 0.5919 - acc: 0.7120\n",
            "model loss is 0.5918747460842133 \n",
            "model acc is 0.7120000123977661\n"
          ],
          "name": "stdout"
        }
      ]
    },
    {
      "cell_type": "code",
      "metadata": {
        "id": "0fDenKm8JrUF",
        "colab_type": "code",
        "outputId": "e282b9e7-e925-4ba1-facf-bf4696a72167",
        "colab": {
          "base_uri": "https://localhost:8080/",
          "height": 563
        }
      },
      "source": [
        "import matplotlib.pyplot as plt\n",
        "acc = history_2.history['acc']\n",
        "val_acc = history_2.history['val_acc']\n",
        "loss = history_2.history['loss']\n",
        "val_loss = history_2.history['val_acc']\n",
        "\n",
        "epochs = range(len(acc))\n",
        "\n",
        "plt.plot(epochs, acc, 'r', label='Training Accuracy')\n",
        "plt.plot(epochs, val_acc, 'b', label='Validation Accuracy')\n",
        "plt.title('Training and validation accuracy')\n",
        "plt.legend(loc=0)\n",
        "plt.figure()\n",
        "\n",
        "plt.plot(epochs, loss, 'r', label='Training Loss')\n",
        "plt.plot(epochs, val_loss, 'b', label='Validation Loss')\n",
        "plt.title('Training and validation loss curve')\n",
        "plt.legend(loc=0)\n",
        "plt.figure()\n",
        "\n",
        "\n",
        "\n",
        "\n",
        "plt.show()\n",
        "\n"
      ],
      "execution_count": 16,
      "outputs": [
        {
          "output_type": "display_data",
          "data": {
            "image/png": "[encoded data removed]",
            "text/plain": [
              "<Figure size 432x288 with 1 Axes>"
            ]
          },
          "metadata": {
            "tags": []
          }
        },
        {
          "output_type": "display_data",
          "data": {
            "image/png": "[encoded data removed]",
            "text/plain": [
              "<Figure size 432x288 with 1 Axes>"
            ]
          },
          "metadata": {
            "tags": []
          }
        },
        {
          "output_type": "display_data",
          "data": {
            "text/plain": [
              "<Figure size 432x288 with 0 Axes>"
            ]
          },
          "metadata": {
            "tags": []
          }
        }
      ]
    },
    {
      "cell_type": "code",
      "metadata": {
        "id": "7q7_m4AwQCEj",
        "colab_type": "code",
        "outputId": "dafa1132-78b8-4e41-9c62-e88f74e8a5ef",
        "colab": {
          "base_uri": "https://localhost:8080/",
          "height": 125
        }
      },
      "source": [
        "print(tf.__version__)"
      ],
      "execution_count": 17,
      "outputs": [
        {
          "output_type": "stream",
          "text": [
            "1.14.0\n",
            "1.14.0\n",
            "1.14.0\n",
            "1.14.0\n",
            "1.14.0\n",
            "1.14.0\n"
          ],
          "name": "stdout"
        }
      ]
    }
  ]
}